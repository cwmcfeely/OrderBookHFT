{
 "cells": [
  {
   "cell_type": "code",
   "id": "initial_id",
   "metadata": {
    "collapsed": true,
    "ExecuteTime": {
     "end_time": "2025-05-21T18:08:56.725782Z",
     "start_time": "2025-05-21T18:08:56.693366Z"
    }
   },
   "source": [
    "import pandas as pd\n",
    "import re\n",
    "from datetime import datetime\n",
    "import os"
   ],
   "outputs": [],
   "execution_count": 53
  },
  {
   "metadata": {
    "ExecuteTime": {
     "end_time": "2025-05-21T18:08:57.448261Z",
     "start_time": "2025-05-21T18:08:57.444489Z"
    }
   },
   "cell_type": "code",
   "source": [
    "# Regex pattern to parse FIX messages\n",
    "fix_pattern = r'\\|([A-Za-z0-9]+)=([^\\|]+)'"
   ],
   "id": "7f335b9e9971c5e2",
   "outputs": [],
   "execution_count": 54
  },
  {
   "metadata": {
    "ExecuteTime": {
     "end_time": "2025-05-21T18:08:58.327738Z",
     "start_time": "2025-05-21T18:08:58.321112Z"
    }
   },
   "cell_type": "code",
   "source": [
    "def parse_fix_logs(log_file):\n",
    "    \"\"\"Extract execution times and prices from FIX logs\"\"\"\n",
    "    pattern = r'(\\d{4}-\\d{2}-\\d{2} \\d{2}:\\d{2}:\\d{2}),\\d{3}.*\\|35=8.*\\|55=([A-Z\\.]+)\\|.*\\|31=([\\d\\.]+)\\|.*\\|6007=([a-z_]+)'\n",
    "\n",
    "    data = []\n",
    "    with open(log_file) as f:\n",
    "        for line in f:\n",
    "            match = re.search(pattern, line)\n",
    "            if match:\n",
    "                timestamp = datetime.strptime(match.group(1), \"%Y-%m-%d %H:%M:%S\")\n",
    "                data.append({\n",
    "                    'symbol': match.group(2),\n",
    "                    'price': float(match.group(3)),\n",
    "                    'strategy': match.group(4),\n",
    "                    'timestamp': timestamp\n",
    "                })\n",
    "    return pd.DataFrame(data)"
   ],
   "id": "9488b50bfe6eaecc",
   "outputs": [],
   "execution_count": 55
  },
  {
   "metadata": {
    "ExecuteTime": {
     "end_time": "2025-05-21T18:08:59.242760Z",
     "start_time": "2025-05-21T18:08:59.238706Z"
    }
   },
   "cell_type": "code",
   "source": "print(\"Current directory:\", os.getcwd())",
   "id": "fcecf929693276d3",
   "outputs": [
    {
     "name": "stdout",
     "output_type": "stream",
     "text": [
      "Current directory: /Users/mcfeely/Projects/OrderBookHFT/Notebooks\n"
     ]
    }
   ],
   "execution_count": 56
  },
  {
   "metadata": {
    "ExecuteTime": {
     "end_time": "2025-05-21T18:09:00.189357Z",
     "start_time": "2025-05-21T18:09:00.164594Z"
    }
   },
   "cell_type": "code",
   "source": [
    "market_maker = parse_fix_logs(\"/Users/mcfeely/Projects/OrderBookHFT/logs/fix_market_maker.log\")\n",
    "momentum = parse_fix_logs(\"/Users/mcfeely/Projects/OrderBookHFT/logs/fix_momentum.log\")\n",
    "my_strategy = parse_fix_logs(\"/Users/mcfeely/Projects/OrderBookHFT/logs/fix_my_strategy.log\")\n",
    "passive = parse_fix_logs(\"/Users/mcfeely/Projects/OrderBookHFT/logs/fix_passive_liquidity_provider.log\")"
   ],
   "id": "53592b6ddbc26591",
   "outputs": [],
   "execution_count": 57
  },
  {
   "metadata": {
    "ExecuteTime": {
     "end_time": "2025-05-21T18:09:01.094196Z",
     "start_time": "2025-05-21T18:09:01.087656Z"
    }
   },
   "cell_type": "code",
   "source": "all_trades = pd.concat([market_maker, momentum, my_strategy, passive])",
   "id": "b433932dbe433f72",
   "outputs": [],
   "execution_count": 58
  },
  {
   "metadata": {
    "ExecuteTime": {
     "end_time": "2025-05-21T18:09:02.536242Z",
     "start_time": "2025-05-21T18:09:02.053266Z"
    }
   },
   "cell_type": "code",
   "source": [
    "def find_competitions(df):\n",
    "    # Group by symbol and price\n",
    "    grouped = df.groupby(['symbol', 'price'])\n",
    "\n",
    "    competitions = []\n",
    "    for (symbol, price), group in grouped:\n",
    "        if len(group) > 1:  # Multiple strategies at same price\n",
    "            # Filter trades within 1 second of each other\n",
    "            group = group.sort_values('timestamp')\n",
    "            time_diff = group['timestamp'].diff().dt.total_seconds().abs()\n",
    "            cluster = (time_diff <= 1).cumsum()\n",
    "\n",
    "            for _, cluster_group in group.groupby(cluster):\n",
    "                if len(cluster_group) > 1:\n",
    "                    competitions.append(cluster_group)\n",
    "\n",
    "    return pd.concat(competitions) if competitions else pd.DataFrame()\n",
    "\n",
    "competing_trades = find_competitions(all_trades)"
   ],
   "id": "53a2c10d5be38912",
   "outputs": [
    {
     "ename": "KeyError",
     "evalue": "'symbol'",
     "output_type": "error",
     "traceback": [
      "\u001B[31m---------------------------------------------------------------------------\u001B[39m",
      "\u001B[31mKeyError\u001B[39m                                  Traceback (most recent call last)",
      "\u001B[36mCell\u001B[39m\u001B[36m \u001B[39m\u001B[32mIn[59]\u001B[39m\u001B[32m, line 19\u001B[39m\n\u001B[32m     15\u001B[39m                     competitions.append(cluster_group)\n\u001B[32m     17\u001B[39m     \u001B[38;5;28;01mreturn\u001B[39;00m pd.concat(competitions) \u001B[38;5;28;01mif\u001B[39;00m competitions \u001B[38;5;28;01melse\u001B[39;00m pd.DataFrame()\n\u001B[32m---> \u001B[39m\u001B[32m19\u001B[39m competing_trades = \u001B[43mfind_competitions\u001B[49m\u001B[43m(\u001B[49m\u001B[43mall_trades\u001B[49m\u001B[43m)\u001B[49m\n",
      "\u001B[36mCell\u001B[39m\u001B[36m \u001B[39m\u001B[32mIn[59]\u001B[39m\u001B[32m, line 3\u001B[39m, in \u001B[36mfind_competitions\u001B[39m\u001B[34m(df)\u001B[39m\n\u001B[32m      1\u001B[39m \u001B[38;5;28;01mdef\u001B[39;00m\u001B[38;5;250m \u001B[39m\u001B[34mfind_competitions\u001B[39m(df):\n\u001B[32m      2\u001B[39m     \u001B[38;5;66;03m# Group by symbol and price\u001B[39;00m\n\u001B[32m----> \u001B[39m\u001B[32m3\u001B[39m     grouped = \u001B[43mdf\u001B[49m\u001B[43m.\u001B[49m\u001B[43mgroupby\u001B[49m\u001B[43m(\u001B[49m\u001B[43m[\u001B[49m\u001B[33;43m'\u001B[39;49m\u001B[33;43msymbol\u001B[39;49m\u001B[33;43m'\u001B[39;49m\u001B[43m,\u001B[49m\u001B[43m \u001B[49m\u001B[33;43m'\u001B[39;49m\u001B[33;43mprice\u001B[39;49m\u001B[33;43m'\u001B[39;49m\u001B[43m]\u001B[49m\u001B[43m)\u001B[49m\n\u001B[32m      5\u001B[39m     competitions = []\n\u001B[32m      6\u001B[39m     \u001B[38;5;28;01mfor\u001B[39;00m (symbol, price), group \u001B[38;5;129;01min\u001B[39;00m grouped:\n",
      "\u001B[36mFile \u001B[39m\u001B[32m~/miniconda3/envs/HFT/lib/python3.12/site-packages/pandas/core/frame.py:9183\u001B[39m, in \u001B[36mDataFrame.groupby\u001B[39m\u001B[34m(self, by, axis, level, as_index, sort, group_keys, observed, dropna)\u001B[39m\n\u001B[32m   9180\u001B[39m \u001B[38;5;28;01mif\u001B[39;00m level \u001B[38;5;129;01mis\u001B[39;00m \u001B[38;5;28;01mNone\u001B[39;00m \u001B[38;5;129;01mand\u001B[39;00m by \u001B[38;5;129;01mis\u001B[39;00m \u001B[38;5;28;01mNone\u001B[39;00m:\n\u001B[32m   9181\u001B[39m     \u001B[38;5;28;01mraise\u001B[39;00m \u001B[38;5;167;01mTypeError\u001B[39;00m(\u001B[33m\"\u001B[39m\u001B[33mYou have to supply one of \u001B[39m\u001B[33m'\u001B[39m\u001B[33mby\u001B[39m\u001B[33m'\u001B[39m\u001B[33m and \u001B[39m\u001B[33m'\u001B[39m\u001B[33mlevel\u001B[39m\u001B[33m'\u001B[39m\u001B[33m\"\u001B[39m)\n\u001B[32m-> \u001B[39m\u001B[32m9183\u001B[39m \u001B[38;5;28;01mreturn\u001B[39;00m \u001B[43mDataFrameGroupBy\u001B[49m\u001B[43m(\u001B[49m\n\u001B[32m   9184\u001B[39m \u001B[43m    \u001B[49m\u001B[43mobj\u001B[49m\u001B[43m=\u001B[49m\u001B[38;5;28;43mself\u001B[39;49m\u001B[43m,\u001B[49m\n\u001B[32m   9185\u001B[39m \u001B[43m    \u001B[49m\u001B[43mkeys\u001B[49m\u001B[43m=\u001B[49m\u001B[43mby\u001B[49m\u001B[43m,\u001B[49m\n\u001B[32m   9186\u001B[39m \u001B[43m    \u001B[49m\u001B[43maxis\u001B[49m\u001B[43m=\u001B[49m\u001B[43maxis\u001B[49m\u001B[43m,\u001B[49m\n\u001B[32m   9187\u001B[39m \u001B[43m    \u001B[49m\u001B[43mlevel\u001B[49m\u001B[43m=\u001B[49m\u001B[43mlevel\u001B[49m\u001B[43m,\u001B[49m\n\u001B[32m   9188\u001B[39m \u001B[43m    \u001B[49m\u001B[43mas_index\u001B[49m\u001B[43m=\u001B[49m\u001B[43mas_index\u001B[49m\u001B[43m,\u001B[49m\n\u001B[32m   9189\u001B[39m \u001B[43m    \u001B[49m\u001B[43msort\u001B[49m\u001B[43m=\u001B[49m\u001B[43msort\u001B[49m\u001B[43m,\u001B[49m\n\u001B[32m   9190\u001B[39m \u001B[43m    \u001B[49m\u001B[43mgroup_keys\u001B[49m\u001B[43m=\u001B[49m\u001B[43mgroup_keys\u001B[49m\u001B[43m,\u001B[49m\n\u001B[32m   9191\u001B[39m \u001B[43m    \u001B[49m\u001B[43mobserved\u001B[49m\u001B[43m=\u001B[49m\u001B[43mobserved\u001B[49m\u001B[43m,\u001B[49m\n\u001B[32m   9192\u001B[39m \u001B[43m    \u001B[49m\u001B[43mdropna\u001B[49m\u001B[43m=\u001B[49m\u001B[43mdropna\u001B[49m\u001B[43m,\u001B[49m\n\u001B[32m   9193\u001B[39m \u001B[43m\u001B[49m\u001B[43m)\u001B[49m\n",
      "\u001B[36mFile \u001B[39m\u001B[32m~/miniconda3/envs/HFT/lib/python3.12/site-packages/pandas/core/groupby/groupby.py:1329\u001B[39m, in \u001B[36mGroupBy.__init__\u001B[39m\u001B[34m(self, obj, keys, axis, level, grouper, exclusions, selection, as_index, sort, group_keys, observed, dropna)\u001B[39m\n\u001B[32m   1326\u001B[39m \u001B[38;5;28mself\u001B[39m.dropna = dropna\n\u001B[32m   1328\u001B[39m \u001B[38;5;28;01mif\u001B[39;00m grouper \u001B[38;5;129;01mis\u001B[39;00m \u001B[38;5;28;01mNone\u001B[39;00m:\n\u001B[32m-> \u001B[39m\u001B[32m1329\u001B[39m     grouper, exclusions, obj = \u001B[43mget_grouper\u001B[49m\u001B[43m(\u001B[49m\n\u001B[32m   1330\u001B[39m \u001B[43m        \u001B[49m\u001B[43mobj\u001B[49m\u001B[43m,\u001B[49m\n\u001B[32m   1331\u001B[39m \u001B[43m        \u001B[49m\u001B[43mkeys\u001B[49m\u001B[43m,\u001B[49m\n\u001B[32m   1332\u001B[39m \u001B[43m        \u001B[49m\u001B[43maxis\u001B[49m\u001B[43m=\u001B[49m\u001B[43maxis\u001B[49m\u001B[43m,\u001B[49m\n\u001B[32m   1333\u001B[39m \u001B[43m        \u001B[49m\u001B[43mlevel\u001B[49m\u001B[43m=\u001B[49m\u001B[43mlevel\u001B[49m\u001B[43m,\u001B[49m\n\u001B[32m   1334\u001B[39m \u001B[43m        \u001B[49m\u001B[43msort\u001B[49m\u001B[43m=\u001B[49m\u001B[43msort\u001B[49m\u001B[43m,\u001B[49m\n\u001B[32m   1335\u001B[39m \u001B[43m        \u001B[49m\u001B[43mobserved\u001B[49m\u001B[43m=\u001B[49m\u001B[38;5;28;43;01mFalse\u001B[39;49;00m\u001B[43m \u001B[49m\u001B[38;5;28;43;01mif\u001B[39;49;00m\u001B[43m \u001B[49m\u001B[43mobserved\u001B[49m\u001B[43m \u001B[49m\u001B[38;5;129;43;01mis\u001B[39;49;00m\u001B[43m \u001B[49m\u001B[43mlib\u001B[49m\u001B[43m.\u001B[49m\u001B[43mno_default\u001B[49m\u001B[43m \u001B[49m\u001B[38;5;28;43;01melse\u001B[39;49;00m\u001B[43m \u001B[49m\u001B[43mobserved\u001B[49m\u001B[43m,\u001B[49m\n\u001B[32m   1336\u001B[39m \u001B[43m        \u001B[49m\u001B[43mdropna\u001B[49m\u001B[43m=\u001B[49m\u001B[38;5;28;43mself\u001B[39;49m\u001B[43m.\u001B[49m\u001B[43mdropna\u001B[49m\u001B[43m,\u001B[49m\n\u001B[32m   1337\u001B[39m \u001B[43m    \u001B[49m\u001B[43m)\u001B[49m\n\u001B[32m   1339\u001B[39m \u001B[38;5;28;01mif\u001B[39;00m observed \u001B[38;5;129;01mis\u001B[39;00m lib.no_default:\n\u001B[32m   1340\u001B[39m     \u001B[38;5;28;01mif\u001B[39;00m \u001B[38;5;28many\u001B[39m(ping._passed_categorical \u001B[38;5;28;01mfor\u001B[39;00m ping \u001B[38;5;129;01min\u001B[39;00m grouper.groupings):\n",
      "\u001B[36mFile \u001B[39m\u001B[32m~/miniconda3/envs/HFT/lib/python3.12/site-packages/pandas/core/groupby/grouper.py:1043\u001B[39m, in \u001B[36mget_grouper\u001B[39m\u001B[34m(obj, key, axis, level, sort, observed, validate, dropna)\u001B[39m\n\u001B[32m   1041\u001B[39m         in_axis, level, gpr = \u001B[38;5;28;01mFalse\u001B[39;00m, gpr, \u001B[38;5;28;01mNone\u001B[39;00m\n\u001B[32m   1042\u001B[39m     \u001B[38;5;28;01melse\u001B[39;00m:\n\u001B[32m-> \u001B[39m\u001B[32m1043\u001B[39m         \u001B[38;5;28;01mraise\u001B[39;00m \u001B[38;5;167;01mKeyError\u001B[39;00m(gpr)\n\u001B[32m   1044\u001B[39m \u001B[38;5;28;01melif\u001B[39;00m \u001B[38;5;28misinstance\u001B[39m(gpr, Grouper) \u001B[38;5;129;01mand\u001B[39;00m gpr.key \u001B[38;5;129;01mis\u001B[39;00m \u001B[38;5;129;01mnot\u001B[39;00m \u001B[38;5;28;01mNone\u001B[39;00m:\n\u001B[32m   1045\u001B[39m     \u001B[38;5;66;03m# Add key to exclusions\u001B[39;00m\n\u001B[32m   1046\u001B[39m     exclusions.add(gpr.key)\n",
      "\u001B[31mKeyError\u001B[39m: 'symbol'"
     ]
    }
   ],
   "execution_count": 59
  },
  {
   "metadata": {
    "ExecuteTime": {
     "end_time": "2025-05-21T18:09:03.063062Z",
     "start_time": "2025-05-21T18:09:03.009724Z"
    }
   },
   "cell_type": "code",
   "source": [
    "def calculate_speed_metrics(competing_trades):\n",
    "    results = []\n",
    "    for (symbol, price), group in competing_trades.groupby(['symbol', 'price']):\n",
    "        first_trade = group.nsmallest(1, 'timestamp')\n",
    "        results.append({\n",
    "            'symbol': symbol,\n",
    "            'price': price,\n",
    "            'fastest_strategy': first_trade['strategy'].values[0],\n",
    "            'time_advantage_ms': (group['timestamp'].min() - group['timestamp'].max()).total_seconds() * 1000\n",
    "        })\n",
    "    return pd.DataFrame(results)\n",
    "\n",
    "speed_results = calculate_speed_metrics(competing_trades)"
   ],
   "id": "dbe5666c149daefd",
   "outputs": [],
   "execution_count": 60
  },
  {
   "metadata": {
    "ExecuteTime": {
     "end_time": "2025-05-21T18:09:06.530851Z",
     "start_time": "2025-05-21T18:09:06.522152Z"
    }
   },
   "cell_type": "code",
   "source": "print(speed_results)",
   "id": "4ea9a38f35a6c6d0",
   "outputs": [
    {
     "name": "stdout",
     "output_type": "stream",
     "text": [
      "     symbol       price            fastest_strategy  time_advantage_ms\n",
      "0     AD.AS   36.956701                market_maker          -512000.0\n",
      "1     AD.AS   36.994031  passive_liquidity_provider          -512000.0\n",
      "2     AD.AS   37.031361  passive_liquidity_provider          -512000.0\n",
      "3     AD.AS   37.068691                market_maker          -518000.0\n",
      "4     AD.AS   37.106021  passive_liquidity_provider          -513000.0\n",
      "5     AD.AS   37.143351                market_maker          -548000.0\n",
      "6     AD.AS   37.180681                market_maker          -553000.0\n",
      "7     AD.AS   37.218011                market_maker          -553000.0\n",
      "8     AD.AS   37.255341                market_maker          -910000.0\n",
      "9     AD.AS   37.292671                    momentum         -1237000.0\n",
      "10  ASML.AS  655.776024                market_maker          -513000.0\n",
      "11  ASML.AS  656.438424  passive_liquidity_provider          -513000.0\n",
      "12  ASML.AS  657.100824  passive_liquidity_provider          -513000.0\n",
      "13  ASML.AS  657.763224                market_maker          -518000.0\n",
      "14  ASML.AS  658.425624  passive_liquidity_provider          -513000.0\n",
      "15  ASML.AS  659.088024                market_maker          -548000.0\n",
      "16  ASML.AS  659.750424                market_maker          -553000.0\n",
      "17  ASML.AS  660.412824                market_maker          -553000.0\n",
      "18  ASML.AS  661.075224                market_maker          -910000.0\n",
      "19  ASML.AS  661.737624                    momentum         -1237000.0\n",
      "20  INGA.AS   18.855539                market_maker          -513000.0\n",
      "21  INGA.AS   18.874585  passive_liquidity_provider          -513000.0\n",
      "22  INGA.AS   18.893631  passive_liquidity_provider          -513000.0\n",
      "23  INGA.AS   18.912677                market_maker          -518000.0\n",
      "24  INGA.AS   18.931723  passive_liquidity_provider          -513000.0\n",
      "25  INGA.AS   18.950769                market_maker          -548000.0\n",
      "26  INGA.AS   18.969815                market_maker          -553000.0\n",
      "27  INGA.AS   18.988861                market_maker          -553000.0\n",
      "28  INGA.AS   19.007907                market_maker          -910000.0\n",
      "29  INGA.AS   19.026953                    momentum         -1237000.0\n",
      "30    OR.PA  374.764487                market_maker          -512000.0\n",
      "31    OR.PA  375.143037  passive_liquidity_provider          -512000.0\n",
      "32    OR.PA  375.521587  passive_liquidity_provider          -512000.0\n",
      "33    OR.PA  375.900137                market_maker          -518000.0\n",
      "34    OR.PA  376.278687  passive_liquidity_provider          -513000.0\n",
      "35    OR.PA  376.657237                market_maker          -548000.0\n",
      "36    OR.PA  377.035787                market_maker          -553000.0\n",
      "37    OR.PA  377.414337                market_maker          -553000.0\n",
      "38    OR.PA  377.792887                market_maker          -910000.0\n",
      "39    OR.PA  378.171437                    momentum         -1237000.0\n",
      "40  PHIA.AS   21.067200                market_maker          -513000.0\n",
      "41  PHIA.AS   21.088480  passive_liquidity_provider          -513000.0\n",
      "42  PHIA.AS   21.109760  passive_liquidity_provider          -513000.0\n",
      "43  PHIA.AS   21.131040                market_maker          -518000.0\n",
      "44  PHIA.AS   21.152320  passive_liquidity_provider          -513000.0\n",
      "45  PHIA.AS   21.173600                market_maker          -548000.0\n",
      "46  PHIA.AS   21.194880                market_maker          -553000.0\n",
      "47  PHIA.AS   21.216160                market_maker          -553000.0\n",
      "48  PHIA.AS   21.237440                market_maker          -910000.0\n",
      "49  PHIA.AS   21.258720                    momentum         -1237000.0\n",
      "50   SAN.PA   91.337402                market_maker          -512000.0\n",
      "51   SAN.PA   91.429662  passive_liquidity_provider          -512000.0\n",
      "52   SAN.PA   91.521922  passive_liquidity_provider          -512000.0\n",
      "53   SAN.PA   91.614182                market_maker          -518000.0\n",
      "54   SAN.PA   91.706442  passive_liquidity_provider          -513000.0\n",
      "55   SAN.PA   91.798702                market_maker          -548000.0\n",
      "56   SAN.PA   91.890962                market_maker          -553000.0\n",
      "57   SAN.PA   91.983222                market_maker          -553000.0\n",
      "58   SAN.PA   92.075482                market_maker          -910000.0\n",
      "59   SAN.PA   92.167742                    momentum         -1237000.0\n"
     ]
    }
   ],
   "execution_count": 61
  },
  {
   "metadata": {},
   "cell_type": "code",
   "outputs": [],
   "execution_count": null,
   "source": "",
   "id": "8ca3b3a74e111248"
  }
 ],
 "metadata": {
  "kernelspec": {
   "display_name": "Python 3",
   "language": "python",
   "name": "python3"
  },
  "language_info": {
   "codemirror_mode": {
    "name": "ipython",
    "version": 2
   },
   "file_extension": ".py",
   "mimetype": "text/x-python",
   "name": "python",
   "nbconvert_exporter": "python",
   "pygments_lexer": "ipython2",
   "version": "2.7.6"
  }
 },
 "nbformat": 4,
 "nbformat_minor": 5
}
