{
 "cells": [
  {
   "cell_type": "code",
   "id": "initial_id",
   "metadata": {
    "collapsed": true,
    "ExecuteTime": {
     "end_time": "2025-05-20T20:32:51.233834Z",
     "start_time": "2025-05-20T20:32:51.226540Z"
    }
   },
   "source": [
    "import pandas as pd\n",
    "import re\n",
    "from datetime import datetime\n",
    "import os"
   ],
   "outputs": [],
   "execution_count": 37
  },
  {
   "metadata": {
    "ExecuteTime": {
     "end_time": "2025-05-20T20:32:51.723987Z",
     "start_time": "2025-05-20T20:32:51.721182Z"
    }
   },
   "cell_type": "code",
   "source": [
    "# Regex pattern to parse FIX messages\n",
    "fix_pattern = r'\\|([A-Za-z0-9]+)=([^\\|]+)'"
   ],
   "id": "7f335b9e9971c5e2",
   "outputs": [],
   "execution_count": 38
  },
  {
   "metadata": {
    "ExecuteTime": {
     "end_time": "2025-05-20T20:32:52.295350Z",
     "start_time": "2025-05-20T20:32:52.292485Z"
    }
   },
   "cell_type": "code",
   "source": [
    "def parse_fix_logs(log_file):\n",
    "    \"\"\"Extract execution times and prices from FIX logs\"\"\"\n",
    "    pattern = r'(\\d{4}-\\d{2}-\\d{2} \\d{2}:\\d{2}:\\d{2}),\\d{3}.*\\|35=8.*\\|55=([A-Z\\.]+)\\|.*\\|31=([\\d\\.]+)\\|.*\\|6007=([a-z_]+)'\n",
    "\n",
    "    data = []\n",
    "    with open(log_file) as f:\n",
    "        for line in f:\n",
    "            match = re.search(pattern, line)\n",
    "            if match:\n",
    "                timestamp = datetime.strptime(match.group(1), \"%Y-%m-%d %H:%M:%S\")\n",
    "                data.append({\n",
    "                    'symbol': match.group(2),\n",
    "                    'price': float(match.group(3)),\n",
    "                    'strategy': match.group(4),\n",
    "                    'timestamp': timestamp\n",
    "                })\n",
    "    return pd.DataFrame(data)"
   ],
   "id": "9488b50bfe6eaecc",
   "outputs": [],
   "execution_count": 39
  },
  {
   "metadata": {
    "ExecuteTime": {
     "end_time": "2025-05-20T20:32:53.066540Z",
     "start_time": "2025-05-20T20:32:53.063275Z"
    }
   },
   "cell_type": "code",
   "source": "print(\"Current directory:\", os.getcwd())",
   "id": "fcecf929693276d3",
   "outputs": [
    {
     "name": "stdout",
     "output_type": "stream",
     "text": [
      "Current directory: /Users/mcfeely/Projects/OrderBookHFT/Notebooks\n"
     ]
    }
   ],
   "execution_count": 40
  },
  {
   "metadata": {
    "ExecuteTime": {
     "end_time": "2025-05-20T20:32:54.042702Z",
     "start_time": "2025-05-20T20:32:54.020449Z"
    }
   },
   "cell_type": "code",
   "source": [
    "market_maker = parse_fix_logs(\"/Users/mcfeely/Projects/OrderBookHFT/logs/fix_market_maker.log\")\n",
    "momentum = parse_fix_logs(\"/Users/mcfeely/Projects/OrderBookHFT/logs/fix_momentum.log\")\n",
    "my_strategy = parse_fix_logs(\"/Users/mcfeely/Projects/OrderBookHFT/logs/fix_my_strategy.log\")\n",
    "passive = parse_fix_logs(\"/Users/mcfeely/Projects/OrderBookHFT/logs/fix_passive_liquidity_provider.log\")"
   ],
   "id": "53592b6ddbc26591",
   "outputs": [],
   "execution_count": 41
  },
  {
   "metadata": {
    "ExecuteTime": {
     "end_time": "2025-05-20T20:32:54.910089Z",
     "start_time": "2025-05-20T20:32:54.902783Z"
    }
   },
   "cell_type": "code",
   "source": "all_trades = pd.concat([market_maker, momentum, my_strategy, passive])",
   "id": "b433932dbe433f72",
   "outputs": [],
   "execution_count": 42
  },
  {
   "metadata": {
    "ExecuteTime": {
     "end_time": "2025-05-20T20:32:55.804290Z",
     "start_time": "2025-05-20T20:32:55.752908Z"
    }
   },
   "cell_type": "code",
   "source": [
    "def find_competitions(df):\n",
    "    # Group by symbol and price\n",
    "    grouped = df.groupby(['symbol', 'price'])\n",
    "\n",
    "    competitions = []\n",
    "    for (symbol, price), group in grouped:\n",
    "        if len(group) > 1:  # Multiple strategies at same price\n",
    "            # Filter trades within 1 second of each other\n",
    "            group = group.sort_values('timestamp')\n",
    "            time_diff = group['timestamp'].diff().dt.total_seconds().abs()\n",
    "            cluster = (time_diff <= 1).cumsum()\n",
    "\n",
    "            for _, cluster_group in group.groupby(cluster):\n",
    "                if len(cluster_group) > 1:\n",
    "                    competitions.append(cluster_group)\n",
    "\n",
    "    return pd.concat(competitions) if competitions else pd.DataFrame()\n",
    "\n",
    "competing_trades = find_competitions(all_trades)"
   ],
   "id": "53a2c10d5be38912",
   "outputs": [],
   "execution_count": 43
  },
  {
   "metadata": {
    "ExecuteTime": {
     "end_time": "2025-05-20T20:32:56.742594Z",
     "start_time": "2025-05-20T20:32:56.702868Z"
    }
   },
   "cell_type": "code",
   "source": [
    "def calculate_speed_metrics(competing_trades):\n",
    "    results = []\n",
    "    for (symbol, price), group in competing_trades.groupby(['symbol', 'price']):\n",
    "        first_trade = group.nsmallest(1, 'timestamp')\n",
    "        results.append({\n",
    "            'symbol': symbol,\n",
    "            'price': price,\n",
    "            'fastest_strategy': first_trade['strategy'].values[0],\n",
    "            'time_advantage_ms': (group['timestamp'].min() - group['timestamp'].max()).total_seconds() * 1000\n",
    "        })\n",
    "    return pd.DataFrame(results)\n",
    "\n",
    "speed_results = calculate_speed_metrics(competing_trades)"
   ],
   "id": "dbe5666c149daefd",
   "outputs": [],
   "execution_count": 44
  },
  {
   "metadata": {
    "ExecuteTime": {
     "end_time": "2025-05-20T19:00:47.123924Z",
     "start_time": "2025-05-20T19:00:47.111796Z"
    }
   },
   "cell_type": "code",
   "source": "print(speed_results)",
   "id": "4ea9a38f35a6c6d0",
   "outputs": [
    {
     "name": "stdout",
     "output_type": "stream",
     "text": [
      "     symbol       price            fastest_strategy  time_advantage_ms\n",
      "0     AD.AS   37.218011                 my_strategy           -10000.0\n",
      "1     AD.AS   37.255341  passive_liquidity_provider           -20000.0\n",
      "2     AD.AS   37.292671                market_maker           -22000.0\n",
      "3     AD.AS   37.367331                    momentum           -17000.0\n",
      "4   ASML.AS  661.075224  passive_liquidity_provider           -20000.0\n",
      "5   ASML.AS  661.737624  passive_liquidity_provider           -15000.0\n",
      "6   INGA.AS   18.969815                    momentum           -10000.0\n",
      "7   INGA.AS   18.988861                    momentum           -20000.0\n",
      "8   INGA.AS   18.988899                market_maker            -5000.0\n",
      "9   INGA.AS   19.007907  passive_liquidity_provider           -10000.0\n",
      "10  INGA.AS   19.026953                 my_strategy           -33000.0\n",
      "11  INGA.AS   19.065045                    momentum            -8000.0\n",
      "12    OR.PA  377.792887                 my_strategy            -5000.0\n",
      "13    OR.PA  378.171437                market_maker           -11000.0\n",
      "14  PHIA.AS   21.179026                    momentum            -5000.0\n",
      "15  PHIA.AS   21.194880                 my_strategy            -5000.0\n",
      "16  PHIA.AS   21.205573                    momentum            -5000.0\n",
      "17  PHIA.AS   21.216160  passive_liquidity_provider            -5000.0\n",
      "18  PHIA.AS   21.237440                    momentum           -15000.0\n",
      "19  PHIA.AS   21.258720                market_maker           -24000.0\n",
      "20  PHIA.AS   21.301280                    momentum            -9000.0\n",
      "21   SAN.PA   92.167742  passive_liquidity_provider           -15000.0\n",
      "22   SAN.PA   92.352262                    momentum            -5000.0\n"
     ]
    }
   ],
   "execution_count": 36
  },
  {
   "metadata": {},
   "cell_type": "code",
   "outputs": [],
   "execution_count": null,
   "source": "",
   "id": "8ca3b3a74e111248"
  }
 ],
 "metadata": {
  "kernelspec": {
   "display_name": "Python 3",
   "language": "python",
   "name": "python3"
  },
  "language_info": {
   "codemirror_mode": {
    "name": "ipython",
    "version": 2
   },
   "file_extension": ".py",
   "mimetype": "text/x-python",
   "name": "python",
   "nbconvert_exporter": "python",
   "pygments_lexer": "ipython2",
   "version": "2.7.6"
  }
 },
 "nbformat": 4,
 "nbformat_minor": 5
}
