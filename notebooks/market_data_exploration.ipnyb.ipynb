{
 "cells": [
  {
   "cell_type": "code",
   "execution_count": null,
   "id": "initial_id",
   "metadata": {
    "collapsed": true
   },
   "outputs": [],
   "source": [
    "import requests\n",
    "import pandas as pd\n",
    "# Plotting closing prices for the fetched symbol\n",
    "import matplotlib.pyplot as plt"
   ]
  },
  {
   "metadata": {},
   "cell_type": "code",
   "outputs": [],
   "execution_count": null,
   "source": [
    "# Example of fetching market data for a symbol (using your EOD HD API key)\n",
    "def fetch_market_data(symbol):\n",
    "    api_url = f\"https://eodhistoricaldata.com/api/eod/{symbol}.US?api_token=6804f044ec7c74.97906694&from=2024-01-01&to=2024-12-31\"\n",
    "    response = requests.get(api_url)\n",
    "    data = response.json()\n",
    "    return pd.DataFrame(data)"
   ],
   "id": "7deb9efc7041e08f"
  },
  {
   "metadata": {},
   "cell_type": "code",
   "outputs": [],
   "execution_count": null,
   "source": [
    "# Fetch data for a sample symbol (ASML.AS)\n",
    "data = fetch_market_data(\"ASML.AS\")\n",
    "data.head()"
   ],
   "id": "5f45f9e31b4a8d32"
  },
  {
   "metadata": {},
   "cell_type": "code",
   "outputs": [],
   "execution_count": null,
   "source": [
    "plt.plot(data['date'], data['close'])\n",
    "plt.title(\"ASML Closing Prices\")\n",
    "plt.xlabel(\"Date\")\n",
    "plt.ylabel(\"Closing Price\")\n",
    "plt.xticks(rotation=45)\n",
    "plt.show()"
   ],
   "id": "5c3f293411e3dec0"
  }
 ],
 "metadata": {
  "kernelspec": {
   "display_name": "Python 3",
   "language": "python",
   "name": "python3"
  },
  "language_info": {
   "codemirror_mode": {
    "name": "ipython",
    "version": 2
   },
   "file_extension": ".py",
   "mimetype": "text/x-python",
   "name": "python",
   "nbconvert_exporter": "python",
   "pygments_lexer": "ipython2",
   "version": "2.7.6"
  }
 },
 "nbformat": 4,
 "nbformat_minor": 5
}
