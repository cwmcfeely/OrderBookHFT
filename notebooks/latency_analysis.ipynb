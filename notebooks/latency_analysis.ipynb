{
 "cells": [
  {
   "cell_type": "code",
   "execution_count": null,
   "id": "initial_id",
   "metadata": {
    "collapsed": true
   },
   "outputs": [],
   "source": [
    "import time\n",
    "import matplotlib.pyplot as plt\n"
   ]
  },
  {
   "metadata": {},
   "cell_type": "code",
   "outputs": [],
   "execution_count": null,
   "source": [
    "# Example latency analysis function\n",
    "def analyze_latency(order_book, matching_engine, num_orders=100):\n",
    "    latencies = []\n",
    "\n",
    "    for i in range(num_orders):\n",
    "        order = {\"type\": \"buy\", \"price\": 150 + i, \"quantity\": 10}\n",
    "        start_time = time.time()\n",
    "        order_book.add_order(order)\n",
    "        matching_engine.match_orders()\n",
    "        latency = time.time() - start_time\n",
    "        latencies.append(latency)\n",
    "\n",
    "    return latencies"
   ],
   "id": "12cacdec4212e1df"
  },
  {
   "metadata": {},
   "cell_type": "code",
   "outputs": [],
   "execution_count": null,
   "source": [
    "# Plotting the latency distribution\n",
    "latencies = analyze_latency(order_book, matching_engine)\n",
    "\n",
    "plt.hist(latencies, bins=50, color='blue', alpha=0.7)\n",
    "plt.title(\"Latency Distribution\")\n",
    "plt.xlabel(\"Latency (seconds)\")\n",
    "plt.ylabel(\"Frequency\")\n",
    "plt.show()\n"
   ],
   "id": "dff5013f14c228bb"
  }
 ],
 "metadata": {
  "kernelspec": {
   "display_name": "Python 3",
   "language": "python",
   "name": "python3"
  },
  "language_info": {
   "codemirror_mode": {
    "name": "ipython",
    "version": 2
   },
   "file_extension": ".py",
   "mimetype": "text/x-python",
   "name": "python",
   "nbconvert_exporter": "python",
   "pygments_lexer": "ipython2",
   "version": "2.7.6"
  }
 },
 "nbformat": 4,
 "nbformat_minor": 5
}
